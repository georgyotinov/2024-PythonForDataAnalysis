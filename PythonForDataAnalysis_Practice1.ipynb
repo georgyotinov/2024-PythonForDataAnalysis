{
  "nbformat": 4,
  "nbformat_minor": 0,
  "metadata": {
    "colab": {
      "provenance": []
    },
    "kernelspec": {
      "name": "python3",
      "display_name": "Python 3"
    },
    "language_info": {
      "name": "python"
    }
  },
  "cells": [
    {
      "cell_type": "markdown",
      "source": [
        "Создайте класс Chocolate (для определения шоколадного батончика), принимающий следующие аргументы при инициализации: цена батончика (тип - float), добавка к шоколаду (необязательный аргумент, тип - str) - 2 балла. При инициализации необходимо проверять, чтобы цена батончика была больше нуля, если цена меньше нуля необходимо вызывать исключение ValueError - 2 балла. Реализуйте метод show_my_chocolate, выводящий на печать \"Шоколадный батончик, добавка: {ДОБАВКА}\" в случае наличия добавки, а иначе должна отобразиться следующая фраза: \"Обычный шоколадный батончик\" - 2 балла. Переопределите метод __str__, который при применении функции print() к объекты класса Chocolate должен возвращать строку \"Шоколадный батончик, <ЦЕНА> рублей\" - 2 балла. Продемонстрируйте использование соответствующего функционала вашего класса, создав несколько объектов Chocolate с различными аргументами - 2 балла"
      ],
      "metadata": {
        "id": "1cpG8uYEI-7U"
      }
    },
    {
      "cell_type": "code",
      "execution_count": null,
      "metadata": {
        "id": "PsujT64vI04j"
      },
      "outputs": [],
      "source": [
        "from dataclasses import dataclass #Для добавления типа переменных\n",
        "\n",
        "class Chocolate:\n",
        "  def __init__(self, price: float, topping: str = None):\n",
        "# Как добавить типы для переменных https://docs.python.org/3/library/dataclasses.html.\n",
        "# Однако, это не форматирует переменные под нужные. Также str = None указывает на необязательный аргумент\n",
        "# Объявление атрибутов\n",
        "    self.price = price\n",
        "    self.topping = topping\n",
        "#Блоки проверки значения стоимости и типы вводимых значений\n",
        "    if price < 0:\n",
        "      raise ValueError('The price is lower then 0')\n",
        "    if type(self.price) != float:\n",
        "      raise TypeError('Price has inccorect type, it should be float')\n",
        "    if type(self.topping) != str and self.topping != None:\n",
        "      raise TypeError('Topping has inccorect type, it should be string')\n",
        "\n",
        "\n",
        "  def show_my_chocolate(self):\n",
        "#Функция применяется, чтобы узнать начинку шоколадного батончика\n",
        "    if self.topping != None:\n",
        "      print(f\"Шоколадный батончик, добавка: {self.topping}\")\n",
        "    #Здесь может быть выполнено return f\"Шоколадный батончик, добавка: {self.topping}\",\n",
        "    #Для вывода этой строки необходимо использовать функцию print()\n",
        "    else:\n",
        "      print(\"Обычный шоколадный батончик\")\n",
        "\n",
        "  def __str__(self) -> str:\n",
        "#Переопределение метода str. Будет выводиться строка при выполнении функции print()\n",
        "        return f\"Шоколадный батончик, {self.price} рублей\""
      ]
    },
    {
      "cell_type": "markdown",
      "source": [
        "# Задача 1\n",
        "Создайте класс Chocolate (для определения шоколадного батончика), принимающий следующие аргументы при инициализации: цена батончика (тип - float), добавка к шоколаду (необязательный аргумент, тип - str)\n",
        "\n",
        "Тестирование входящих типов переменных.\n",
        "\n"
      ],
      "metadata": {
        "id": "1l85U_uIwjCg"
      }
    },
    {
      "cell_type": "code",
      "source": [
        "choc = Chocolate(1) #TypeError: Price has inccorect type, it should be float\n",
        "\n",
        "choc = Chocolate(1.0) #There is no error\n",
        "\n",
        "choc = Chocolate(1.0, 1) #TypeError: Topping has inccorect type, it should be string\n",
        "\n",
        "choc = Chocolate(1.0, 'Fruits') #There is no error"
      ],
      "metadata": {
        "id": "Q5VcF2d7LmSK"
      },
      "execution_count": null,
      "outputs": []
    },
    {
      "cell_type": "markdown",
      "source": [
        "# Задача 2\n",
        "При инициализации необходимо проверять, чтобы цена батончика была больше нуля, если цена меньше нуля необходимо вызывать исключение ValueError\n",
        "\n",
        "Тестирование цены батончика"
      ],
      "metadata": {
        "id": "-UjVIiFLx-l9"
      }
    },
    {
      "cell_type": "code",
      "source": [
        "choc = Chocolate(-1.0, 'Fruits') #ValueError: The price is lower then 0\n",
        "choc = Chocolate(1.0, 'Fruits') #There is no error"
      ],
      "metadata": {
        "id": "2LyFKkxoUqlg"
      },
      "execution_count": null,
      "outputs": []
    },
    {
      "cell_type": "markdown",
      "source": [
        "# Задача 3\n",
        "Реализуйте метод show_my_chocolate, выводящий на печать \"Шоколадный батончик, добавка: {ДОБАВКА}\" в случае наличия добавки, а иначе должна отобразиться следующая фраза: \"Обычный шоколадный батончик\""
      ],
      "metadata": {
        "id": "V331rnKayokT"
      }
    },
    {
      "cell_type": "code",
      "source": [
        "choc = Chocolate(1.0, 'Fruits')\n",
        "choc.show_my_chocolate()\n",
        "choc = Chocolate(1.0)\n",
        "choc.show_my_chocolate()"
      ],
      "metadata": {
        "colab": {
          "base_uri": "https://localhost:8080/"
        },
        "id": "yg4XKLE8yhxo",
        "outputId": "9e8cc047-d7db-43a8-cff9-b468a21b91f6"
      },
      "execution_count": null,
      "outputs": [
        {
          "output_type": "stream",
          "name": "stdout",
          "text": [
            "Шоколадный батончик, добавка: Fruits\n",
            "Обычный шоколадный батончик\n"
          ]
        }
      ]
    },
    {
      "cell_type": "markdown",
      "source": [
        "# Задача 4\n",
        "Переопределите метод str, который при применении функции print() к объекты класса Chocolate должен возвращать строку \"Шоколадный батончик, <ЦЕНА> рублей\""
      ],
      "metadata": {
        "id": "v2tH0oiWzhQb"
      }
    },
    {
      "cell_type": "code",
      "source": [
        "choc = Chocolate(1.0, 'Fruits')\n",
        "print(choc)"
      ],
      "metadata": {
        "colab": {
          "base_uri": "https://localhost:8080/"
        },
        "id": "Wp4Yug3azpz0",
        "outputId": "c2ae38fb-bde4-4eb6-c857-85b1ea8fbca2"
      },
      "execution_count": null,
      "outputs": [
        {
          "output_type": "stream",
          "name": "stdout",
          "text": [
            "Шоколадный батончик, 1.0 рублей\n"
          ]
        }
      ]
    },
    {
      "cell_type": "code",
      "source": [],
      "metadata": {
        "id": "jH1c-Fs_B6bB"
      },
      "execution_count": null,
      "outputs": []
    }
  ]
}